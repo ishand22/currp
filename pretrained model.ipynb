{
 "cells": [
  {
   "cell_type": "code",
   "execution_count": 1,
   "id": "bd3b0f1a",
   "metadata": {},
   "outputs": [],
   "source": [
    "import torch\n",
    "import torch.nn as nn\n",
    "\n",
    "class MLP(nn.Module):\n",
    "    def __init__(self, input_dim=1024):\n",
    "        super(MLP, self).__init__()\n",
    "        self.net = nn.Sequential(\n",
    "            nn.Linear(input_dim, 256),\n",
    "            nn.ReLU(),\n",
    "            nn.Dropout(0.3),\n",
    "            nn.Linear(256, 128),\n",
    "            nn.ReLU(),\n",
    "            nn.Dropout(0.2),\n",
    "            nn.Linear(128, 1),\n",
    "            nn.Sigmoid()\n",
    "        )\n",
    "\n",
    "    def forward(self, x):\n",
    "        return self.net(x)\n"
   ]
  },
  {
   "cell_type": "code",
   "execution_count": 2,
   "id": "4a159734",
   "metadata": {},
   "outputs": [
    {
     "data": {
      "text/plain": [
       "MLP(\n",
       "  (net): Sequential(\n",
       "    (0): Linear(in_features=1024, out_features=256, bias=True)\n",
       "    (1): ReLU()\n",
       "    (2): Dropout(p=0.3, inplace=False)\n",
       "    (3): Linear(in_features=256, out_features=128, bias=True)\n",
       "    (4): ReLU()\n",
       "    (5): Dropout(p=0.2, inplace=False)\n",
       "    (6): Linear(in_features=128, out_features=1, bias=True)\n",
       "    (7): Sigmoid()\n",
       "  )\n",
       ")"
      ]
     },
     "execution_count": 2,
     "metadata": {},
     "output_type": "execute_result"
    }
   ],
   "source": [
    "# Set device\n",
    "device = torch.device(\"cuda\" if torch.cuda.is_available() else \"cpu\")\n",
    "\n",
    "# Create model and load weights\n",
    "model = MLP(input_dim=1024)\n",
    "model.load_state_dict(torch.load(\"face_match_model.pth\", map_location=device))\n",
    "model.to(device)\n",
    "model.eval()  # Set to evaluation mode\n"
   ]
  },
  {
   "cell_type": "code",
   "execution_count": 3,
   "id": "842813f9",
   "metadata": {},
   "outputs": [
    {
     "name": "stdout",
     "output_type": "stream",
     "text": [
      "WARNING:tensorflow:From c:\\Users\\ishan\\AppData\\Local\\Programs\\Python\\Python312\\Lib\\site-packages\\keras\\src\\backend\\tensorflow\\core.py:232: The name tf.placeholder is deprecated. Please use tf.compat.v1.placeholder instead.\n",
      "\n",
      "\u001b[1m1/1\u001b[0m \u001b[32m━━━━━━━━━━━━━━━━━━━━\u001b[0m\u001b[37m\u001b[0m \u001b[1m5s\u001b[0m 5s/step\n",
      "\u001b[1m1/1\u001b[0m \u001b[32m━━━━━━━━━━━━━━━━━━━━\u001b[0m\u001b[37m\u001b[0m \u001b[1m0s\u001b[0m 136ms/step\n"
     ]
    }
   ],
   "source": [
    "from keras_facenet import FaceNet\n",
    "import cv2\n",
    "import numpy as np\n",
    "\n",
    "embedder = FaceNet()\n",
    "img = cv2.imread(r\"C:\\Users\\ishan\\OneDrive\\Pictures\\Camera Roll\\WIN_20250525_11_28_48_Pro.jpg\")\n",
    "img2=cv2.imread(r\"C:\\Users\\ishan\\OneDrive\\Pictures\\Camera Roll\\WIN_20250601_21_15_45_Pro.jpg\")\n",
    "img_rgb = cv2.cvtColor(img, cv2.COLOR_BGR2RGB)\n",
    "img_rgb2 = cv2.cvtColor(img2, cv2.COLOR_BGR2RGB)\n",
    "\n",
    "embedding1 = embedder.embeddings([img_rgb])\n",
    "embedding2= embedder.embeddings([img_rgb2])"
   ]
  },
  {
   "cell_type": "code",
   "execution_count": null,
   "id": "3cf6df5a",
   "metadata": {},
   "outputs": [
    {
     "name": "stdout",
     "output_type": "stream",
     "text": [
      "Similarity Score: 0.2112\n",
      "❌ Different people\n"
     ]
    }
   ],
   "source": [
    "\n",
    "emb1 = embedding1[0]  # shape (512,)\n",
    "emb2 = embedding2[0]  # shape (512,)\n",
    "\n",
    "# Concatenate the two embeddings\n",
    "combined = np.concatenate([emb1, emb2])  # shape (1024,)\n",
    "\n",
    "# Convert to PyTorch tensor and add batch dimension\n",
    "input_tensor = torch.tensor(combined, dtype=torch.float32).unsqueeze(0).to(device)  # shape (1, 1024)\n",
    "\n",
    "# Run through your loaded model\n",
    "model.eval()\n",
    "with torch.no_grad():\n",
    "    score = model(input_tensor).item()\n",
    "\n",
    "# Print result\n",
    "print(f\"Similarity Score: {score:.4f}\")\n",
    "if score > 0.5:\n",
    "    print(\" Same person\")\n",
    "else:\n",
    "    print(\" Different people\")\n"
   ]
  },
  {
   "cell_type": "code",
   "execution_count": 4,
   "id": "9214c374",
   "metadata": {},
   "outputs": [],
   "source": [
    "def is_same_person(img_path1, img_path2, threshold=0.5):\n",
    "    # Read and preprocess images\n",
    "    img1 = cv2.imread(img_path1)\n",
    "    img2 = cv2.imread(img_path2)\n",
    "    if img1 is None or img2 is None:\n",
    "        raise FileNotFoundError(\"One of the image paths is invalid or the image could not be loaded.\")\n",
    "\n",
    "    img1_rgb = cv2.cvtColor(img1, cv2.COLOR_BGR2RGB)\n",
    "    img2_rgb = cv2.cvtColor(img2, cv2.COLOR_BGR2RGB)\n",
    "\n",
    "    # Extract embeddings\n",
    "    emb1 = embedder.embeddings([img1_rgb])[0]\n",
    "    emb2 = embedder.embeddings([img2_rgb])[0]\n",
    "\n",
    "    # Combine embeddings and prepare input tensor\n",
    "    combined = np.concatenate([emb1, emb2])\n",
    "    input_tensor = torch.tensor(combined, dtype=torch.float32).unsqueeze(0).to(device)\n",
    "\n",
    "    # Get prediction\n",
    "    with torch.no_grad():\n",
    "        score = model(input_tensor).item()\n",
    "\n",
    "    # Return result\n",
    "    return score, score > threshold\n"
   ]
  },
  {
   "cell_type": "code",
   "execution_count": 8,
   "id": "9c7d6675",
   "metadata": {},
   "outputs": [
    {
     "name": "stdout",
     "output_type": "stream",
     "text": [
      "\u001b[1m1/1\u001b[0m \u001b[32m━━━━━━━━━━━━━━━━━━━━\u001b[0m\u001b[37m\u001b[0m \u001b[1m0s\u001b[0m 187ms/step\n",
      "\u001b[1m1/1\u001b[0m \u001b[32m━━━━━━━━━━━━━━━━━━━━\u001b[0m\u001b[37m\u001b[0m \u001b[1m0s\u001b[0m 165ms/step\n",
      "Similarity Score: 0.2431\n",
      "Different people\n"
     ]
    }
   ],
   "source": [
    "score, is_match = is_same_person(\n",
    "    r\"C:\\Users\\ishan\\OneDrive\\Pictures\\Camera Roll\\WIN_20250601_18_19_16_Pro.jpg\",\n",
    "    r\"C:\\Users\\ishan\\OneDrive\\Pictures\\Camera Roll\\WIN_20250601_21_15_45_Pro.jpg\"\n",
    ")\n",
    "\n",
    "print(f\"Similarity Score: {score:.4f}\")\n",
    "if is_match:\n",
    "    print(\"Same person\")\n",
    "else:\n",
    "    print(\"Different people\")"
   ]
  }
 ],
 "metadata": {
  "kernelspec": {
   "display_name": "Python 3",
   "language": "python",
   "name": "python3"
  },
  "language_info": {
   "codemirror_mode": {
    "name": "ipython",
    "version": 3
   },
   "file_extension": ".py",
   "mimetype": "text/x-python",
   "name": "python",
   "nbconvert_exporter": "python",
   "pygments_lexer": "ipython3",
   "version": "3.12.0b4"
  }
 },
 "nbformat": 4,
 "nbformat_minor": 5
}
